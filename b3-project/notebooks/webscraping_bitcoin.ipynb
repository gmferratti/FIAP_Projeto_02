{
 "cells": [
  {
   "cell_type": "markdown",
   "metadata": {},
   "source": [
    "<h1>Webscraping Bitcoin</h1>"
   ]
  },
  {
   "cell_type": "code",
   "execution_count": 1,
   "metadata": {},
   "outputs": [],
   "source": [
    "# Setup configs\n",
    "import yfinance as yf\n",
    "import schedule\n",
    "import time\n",
    "import datetime\n",
    "import boto3\n",
    "import json\n",
    "import logging\n",
    "logger = logging.getLogger(__name__)\n",
    "logging.basicConfig(level=logging.INFO, \n",
    "                    format='%(asctime)s - %(levelname)s - %(message)s')"
   ]
  },
  {
   "cell_type": "code",
   "execution_count": null,
   "metadata": {},
   "outputs": [],
   "source": [
    "# Configurar o cliente Kinesis Firehose\n",
    "firehose_client = boto3.client(\n",
    "    'firehose', \n",
    "    region_name='us-east-1') # Substitua pela região onde o Firehose foi criado\n",
    "delivery_stream_name = 'your_delivery_stream_name' # Substitua pelo nome do seu Delivery Stream\n",
    "\n",
    "\n",
    "def fetch_and_send_bitcoin_data():\n",
    "    \"\"\"\n",
    "    Obtém dados de Bitcoin usando yfinance e envia para o Kinesis Firehose.\n",
    "    \"\"\"\n",
    "    # Obter dados do Bitcoin usando yfinance\n",
    "    bitcoin = yf.Ticker(\"BTC-USD\")\n",
    "    data = bitcoin.history(period=\"1m\")\n",
    "    \n",
    "    # Pegar o último registro (mais recente)\n",
    "    latest_data = data.iloc[-1]\n",
    "    timestamp = datetime.datetime.now().isoformat()\n",
    "    close_price = latest_data['Close']\n",
    "\n",
    "    # Criar o registro JSON\n",
    "    record = {\n",
    "        'timestamp': timestamp,\n",
    "        'close_price': close_price\n",
    "    }\n",
    "\n",
    "    # Enviar o registro para o Kinesis Firehose\n",
    "    response = firehose_client.put_record(\n",
    "        DeliveryStreamName=delivery_stream_name,\n",
    "        Record={\n",
    "            'Data': json.dumps(record) + '\\n'\n",
    "        }\n",
    "    )\n",
    "    \n",
    "    print(f\"Timestamp: {timestamp}, Close: {close_price}, Response: {response}\")\n",
    "\n",
    "# Agendar a tarefa para rodar a cada minuto\n",
    "schedule.every(1).minute.do(fetch_and_send_bitcoin_data)\n",
    "\n",
    "print(\"Iniciando a captura de dados do Bitcoin a cada minuto...\")\n",
    "\n",
    "# Loop para manter o script rodando\n",
    "while True:\n",
    "    schedule.run_pending()\n",
    "    time.sleep(1)"
   ]
  }
 ],
 "metadata": {
  "kernelspec": {
   "display_name": "fiap_02",
   "language": "python",
   "name": "python3"
  },
  "language_info": {
   "codemirror_mode": {
    "name": "ipython",
    "version": 3
   },
   "file_extension": ".py",
   "mimetype": "text/x-python",
   "name": "python",
   "nbconvert_exporter": "python",
   "pygments_lexer": "ipython3",
   "version": "3.12.4"
  }
 },
 "nbformat": 4,
 "nbformat_minor": 2
}
